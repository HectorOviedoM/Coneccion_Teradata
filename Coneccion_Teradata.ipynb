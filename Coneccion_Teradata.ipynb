{
 "cells": [
  {
   "cell_type": "code",
   "execution_count": 1,
   "metadata": {},
   "outputs": [],
   "source": [
    "from pyspark import SparkContext, SparkConf, SQLContext\n",
    "appName = \"Coneccion_Teradata \"\n",
    "master = \"local\""
   ]
  },
  {
   "cell_type": "code",
   "execution_count": 2,
   "metadata": {},
   "outputs": [],
   "source": [
    "conf = SparkConf() \\\n",
    "    .setAppName(appName) \\\n",
    "    .setMaster(master) \\\n",
    "    .set(\"spark.driver.extraClassPath\",\"/home/cdsw/*\")\n",
    "sc = SparkContext(conf=conf)\n",
    "sqlContext = SQLContext(sc)\n",
    "spark = sqlContext.sparkSession"
   ]
  },
  {
   "cell_type": "code",
   "execution_count": 3,
   "metadata": {},
   "outputs": [],
   "source": [
    "driver = \"com.teradata.jdbc.TeraDriver\""
   ]
  },
  {
   "cell_type": "code",
   "execution_count": 4,
   "metadata": {},
   "outputs": [],
   "source": [
    "sql = \"SELECT TOP 10 * FROM DIM_CIUDAD\" \n",
    "url = \"jdbc:teradata://HOST/Database=DATABASE\" # ejemplo : jdbc:teradata://TDPROD/Database=P_DIM_V\n",
    "user = \"SE.....\"\n",
    "password = \"*******\""
   ]
  },
  {
   "cell_type": "code",
   "execution_count": 5,
   "metadata": {},
   "outputs": [],
   "source": [
    "def load_data(driver, jdbc_url, sql, user, password):\n",
    "    return spark.read \\\n",
    "        .format('jdbc') \\\n",
    "        .option('driver', driver) \\\n",
    "        .option('user', user) \\\n",
    "        .option('password', password) \\\n",
    "        .option('url', jdbc_url) \\\n",
    "        .option('dbtable', '({sql}) as src'.format(sql=sql)) \\\n",
    "        .load()\n",
    "\n",
    " "
   ]
  },
  {
   "cell_type": "code",
   "execution_count": 6,
   "metadata": {},
   "outputs": [
    {
     "name": "stdout",
     "output_type": "stream",
     "text": [
      "+----------+--------------------+\n",
      "| Ciudad_Id|         Ciudad_Desc|\n",
      "+----------+--------------------+\n",
      "|      7300|barranquilla - co...|\n",
      "|      3487|     Ca�ada De Salas|\n",
      "|       469|           Desempe�o|\n",
      "|2132007197|              ucacha|\n",
      "|      7708|             ginevra|\n",
      "|2132005586|               parn�|\n",
      "|      3018|        Las Junturas|\n",
      "|2132004974|             memdoza|\n",
      "|2132001630|              calera|\n",
      "|       938|     General Cabrera|\n",
      "+----------+--------------------+\n",
      "\n"
     ]
    }
   ],
   "source": [
    "df_td = load_data(driver,url,sql,user,password)\n",
    "df_td.show(10)"
   ]
  },
  {
   "cell_type": "code",
   "execution_count": null,
   "metadata": {},
   "outputs": [],
   "source": []
  },
  {
   "cell_type": "code",
   "execution_count": null,
   "metadata": {},
   "outputs": [],
   "source": []
  }
 ],
 "metadata": {
  "kernelspec": {
   "display_name": "Python 3",
   "language": "python",
   "name": "python3"
  },
  "language_info": {
   "codemirror_mode": {
    "name": "ipython",
    "version": 3
   },
   "file_extension": ".py",
   "mimetype": "text/x-python",
   "name": "python",
   "nbconvert_exporter": "python",
   "pygments_lexer": "ipython3",
   "version": "3.6.10"
  }
 },
 "nbformat": 4,
 "nbformat_minor": 4
}
